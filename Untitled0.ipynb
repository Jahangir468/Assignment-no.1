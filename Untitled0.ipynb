{
  "nbformat": 4,
  "nbformat_minor": 0,
  "metadata": {
    "colab": {
      "provenance": []
    },
    "kernelspec": {
      "name": "python3",
      "display_name": "Python 3"
    },
    "language_info": {
      "name": "python"
    }
  },
  "cells": [
    {
      "cell_type": "markdown",
      "source": [
        "# Excersice 3.4"
      ],
      "metadata": {
        "id": "PnkoT0YtGkSg"
      }
    },
    {
      "cell_type": "code",
      "source": [
        "guests_Maher = [\"Maheer\", \"Kamran\", \"Asif\"];\n",
        "print(\"Hello \"+guests_Maher[0]+\", \"+guests_Maher[1]+\", \"+guests_Maher[2]+\", You all are invited for Dinner at Ramada on coming Sunday.\")"
      ],
      "metadata": {
        "colab": {
          "base_uri": "https://localhost:8080/"
        },
        "id": "JByBChT6GR5y",
        "outputId": "83c6205f-7409-4989-de63-7580687bc13c"
      },
      "execution_count": 13,
      "outputs": [
        {
          "output_type": "stream",
          "name": "stdout",
          "text": [
            "Hello Maheer, Kamran, Asif, You all are invited for Dinner at Ramada on coming Sunday.\n"
          ]
        }
      ]
    },
    {
      "cell_type": "markdown",
      "source": [
        "# Excersice 3.5"
      ],
      "metadata": {
        "id": "O_ts4ArxGcgf"
      }
    },
    {
      "cell_type": "code",
      "source": [
        "guests_Maher = [\"Maheer\", \"Kamran\", \"Asif\"];\n",
        "print(guests_Maher[1]+\" Will not be able to join us for Dinner.\")\n",
        "\n",
        "guests_Maher[1] = 'Usama';\n",
        "print(\"Hi \"+guests_Maher[0]+\", You are invited for Dinner at Belmoris.\")\n",
        "print(\"Hi \"+guests_Maher[1]+\", You are invited for Dinner at Belmoris\")\n",
        "print(\"Hi \"+guests_Maher[2]+\", You are invited for Dinner at Belmoris\")"
      ],
      "metadata": {
        "colab": {
          "base_uri": "https://localhost:8080/"
        },
        "id": "X-gWiCJVGoHA",
        "outputId": "102beabd-f6bc-47b0-ae8c-976c9617540b"
      },
      "execution_count": 14,
      "outputs": [
        {
          "output_type": "stream",
          "name": "stdout",
          "text": [
            "Kamran Will not be able to join us for Dinner.\n",
            "Hi Maheer, You are invited for Dinner at Belmoris.\n",
            "Hi Usama, You are invited for Dinner at Belmoris\n",
            "Hi Asif, You are invited for Dinner at Belmoris\n"
          ]
        }
      ]
    },
    {
      "cell_type": "markdown",
      "source": [
        "## Excersice 3.6"
      ],
      "metadata": {
        "id": "5uh2z9F8GwlY"
      }
    },
    {
      "cell_type": "code",
      "source": [
        "guests_Maher = [\"Maheer\", \"Kamran\", \"Asif\"];\n",
        "guests_Maher.insert(0, \"Mohsin\");\n",
        "guests_Maher.insert(2, \"Arslan\");\n",
        "guests_Maher.append(\"Ahmad\");\n",
        "\n",
        "print(\"I am erally sorry I can invite only two people\")\n",
        "removed1 = guests_Maher.pop(0)\n",
        "print(\"Hi \"+removed1+\", Sorry I can't invite you to dinner\")\n",
        "removed2 = guests_Maher.pop(0)\n",
        "print(\"Hi \"+removed2+\", Sorry I can't invite you to dinner\")\n",
        "removed3 = guests_Maher.pop(0)\n",
        "print(\"Hi \"+removed3+\", Sorry I can't invite you to dinner\")\n",
        "removed4 = guests_Maher.pop(0)\n",
        "print(\"Hi \"+removed4+\", Sorry I can't invite you to dinner\")\n",
        "print(\"Hi \"+guests_Maher[0]+\", You are still invited for the Dinner\")\n",
        "print(\"Hi \"+guests_Maher[1]+\", You are still invited for the Dinner\")\n",
        "\n",
        "del guests_Maher[0]\n",
        "del guests_Maher[0]\n",
        "print(guests_Maher)"
      ],
      "metadata": {
        "colab": {
          "base_uri": "https://localhost:8080/"
        },
        "id": "0zKsk0GJHAUP",
        "outputId": "6210fefb-a55a-4a89-aaf7-d31a19184ec5"
      },
      "execution_count": 15,
      "outputs": [
        {
          "output_type": "stream",
          "name": "stdout",
          "text": [
            "I am erally sorry I can invite only two people\n",
            "Hi Mohsin, Sorry I can't invite you to dinner\n",
            "Hi Maheer, Sorry I can't invite you to dinner\n",
            "Hi Arslan, Sorry I can't invite you to dinner\n",
            "Hi Kamran, Sorry I can't invite you to dinner\n",
            "Hi Asif, You are still invited for the Dinner\n",
            "Hi Ahmad, You are still invited for the Dinner\n",
            "[]\n"
          ]
        }
      ]
    },
    {
      "cell_type": "markdown",
      "source": [
        "# Chapter **4**"
      ],
      "metadata": {
        "id": "M1Xjf7-pHLVw"
      }
    },
    {
      "cell_type": "markdown",
      "source": [
        "# 4.1. "
      ],
      "metadata": {
        "id": "JDqOtFIJHYjf"
      }
    },
    {
      "cell_type": "code",
      "source": [
        "pizza_list_Maher = ['Chilli', 'Margherita', 'Hawaiian']\n",
        "for pizza in pizza_list_Maher:\n",
        "  print(\"I Like \"+pizza+\" Pizza it's amazing.\")\n",
        "print(\"I love to eat pizza with ketchup, especially with friends.\")"
      ],
      "metadata": {
        "colab": {
          "base_uri": "https://localhost:8080/"
        },
        "id": "POJrJavIHilY",
        "outputId": "4e53beb2-bc21-4734-d6e6-c180dedd5253"
      },
      "execution_count": 16,
      "outputs": [
        {
          "output_type": "stream",
          "name": "stdout",
          "text": [
            "I Like Chilli Pizza it's amazing.\n",
            "I Like Margherita Pizza it's amazing.\n",
            "I Like Hawaiian Pizza it's amazing.\n",
            "I love to eat pizza with ketchup, especially with friends.\n"
          ]
        }
      ]
    },
    {
      "cell_type": "markdown",
      "source": [
        "# 4.2."
      ],
      "metadata": {
        "id": "Yu_7bIpYHuQW"
      }
    },
    {
      "cell_type": "code",
      "source": [
        "pet_list_Maher = [\"cat\", \"dog\", \"horse\"]\n",
        "\n",
        "for pet in pet_list_Maher:\n",
        "  print(\"A \"+pet.title()+\" would make a great pet.\")\n",
        "print(\"\\nAny of these animals would make a great pet!\")"
      ],
      "metadata": {
        "colab": {
          "base_uri": "https://localhost:8080/"
        },
        "id": "5CTmJ4_FH5F-",
        "outputId": "210b1b73-13db-423b-f955-857654195dfb"
      },
      "execution_count": 17,
      "outputs": [
        {
          "output_type": "stream",
          "name": "stdout",
          "text": [
            "A Cat would make a great pet.\n",
            "A Dog would make a great pet.\n",
            "A Horse would make a great pet.\n",
            "\n",
            "Any of these animals would make a great pet!\n"
          ]
        }
      ]
    }
  ]
}